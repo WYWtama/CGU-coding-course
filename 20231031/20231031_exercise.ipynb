{
  "nbformat": 4,
  "nbformat_minor": 0,
  "metadata": {
    "colab": {
      "provenance": []
    },
    "kernelspec": {
      "name": "python3",
      "display_name": "Python 3"
    },
    "language_info": {
      "name": "python"
    }
  },
  "cells": [
    {
      "cell_type": "code",
      "source": [
        "def is_prime(n):\n",
        "    if n <= 1:\n",
        "        return False\n",
        "    if n <= 3:\n",
        "        return True\n",
        "    if n % 2 == 0 or n % 3 == 0:\n",
        "        return False\n",
        "\n",
        "    i = 5\n",
        "    while i * i <= n:\n",
        "        if n % i == 0 or n % (i + 2) == 0:\n",
        "            return False\n",
        "        i += 6\n",
        "\n",
        "    return True\n",
        "\n",
        "def closest_prime(n):\n",
        "    if n <= 2:\n",
        "        return 2\n",
        "    if is_prime(n):\n",
        "        return n\n",
        "\n",
        "    lower = n - 1\n",
        "    upper = n + 1\n",
        "    while True:\n",
        "        if is_prime(lower):\n",
        "            return lower\n",
        "        if is_prime(upper):\n",
        "            return upper\n",
        "        lower -= 1\n",
        "        upper += 1\n",
        "\n",
        "num = int(input(\"請輸入一個數字：\"))\n",
        "if num < 2:\n",
        "    print(f\"{num} 不是質數\")\n",
        "elif is_prime(num):\n",
        "    print(f\"{num} 是質數\")\n",
        "else:\n",
        "    closest = closest_prime(num)\n",
        "    print(f\"小於或等於 {num} 並且最接近的質數是 {closest}\")"
      ],
      "metadata": {
        "colab": {
          "base_uri": "https://localhost:8080/"
        },
        "id": "b64P-0fiq3g9",
        "outputId": "4f43226f-a579-473b-8579-5cfb5b104011"
      },
      "execution_count": 13,
      "outputs": [
        {
          "output_type": "stream",
          "name": "stdout",
          "text": [
            "請輸入一個數字：43\n",
            "43 是質數\n"
          ]
        }
      ]
    },
    {
      "cell_type": "code",
      "source": [
        "user_input = input(\"輸入數字，用逗號隔開\")\n",
        "numbers = [int(num) for num in user_input.split(',')]\n",
        "count_smaller = []\n",
        "\n",
        "for i in range(len(numbers)):\n",
        "  count = sum(1 for num in numbers[:i] if num < numbers[i])\n",
        "  count_smaller.append(count)\n",
        "\n",
        "print(\"每個數字之前有多少小於他的數字\", count_smaller)"
      ],
      "metadata": {
        "colab": {
          "base_uri": "https://localhost:8080/"
        },
        "id": "yPd7HCIwlM1_",
        "outputId": "26729acd-78ae-40f0-be42-2f266048ffa6"
      },
      "execution_count": 2,
      "outputs": [
        {
          "output_type": "stream",
          "name": "stdout",
          "text": [
            "輸入數字，用逗號隔開4,5,7,9\n",
            "每個數字之前有多少小於他的數字 [0, 1, 2, 3]\n"
          ]
        }
      ]
    },
    {
      "cell_type": "code",
      "source": [
        "def minOperation(boxes):\n",
        "  n = len(boxes)\n",
        "  answer = [0] * n\n",
        "  for i in range(n):\n",
        "    for j in range(n):\n",
        "      if boxes[j] == '1':\n",
        "        answer[i] += abs(i - j)\n",
        "  return answer\n",
        "\n",
        "a = input('輸入：')\n",
        "print(minOperation(list(a)))"
      ],
      "metadata": {
        "colab": {
          "base_uri": "https://localhost:8080/"
        },
        "id": "aXn_WQlUtXYN",
        "outputId": "0012c341-8210-49be-b642-2b50c42a5217"
      },
      "execution_count": 11,
      "outputs": [
        {
          "output_type": "stream",
          "name": "stdout",
          "text": [
            "輸入：001011\n",
            "[11, 8, 5, 4, 3, 4]\n"
          ]
        }
      ]
    }
  ]
}