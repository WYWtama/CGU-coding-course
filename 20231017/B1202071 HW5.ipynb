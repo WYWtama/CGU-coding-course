{
  "nbformat": 4,
  "nbformat_minor": 0,
  "metadata": {
    "colab": {
      "provenance": []
    },
    "kernelspec": {
      "name": "python3",
      "display_name": "Python 3"
    },
    "language_info": {
      "name": "python"
    }
  },
  "cells": [
    {
      "cell_type": "code",
      "source": [
        "n = 9\n",
        "\n",
        "for i in range(1, n+1):                # 1~10\n",
        "    spaces = n - i                     # 9-1=8\\7\\\n",
        "    stars = 2 * i - 1                  # 1\\3\\5\\7\n",
        "    tree = ' ' * spaces + '*' * stars\n",
        "    print(tree)\n",
        "\n",
        "k = 5\n",
        "\n",
        "for j in range(0, 5):\n",
        "    block = 7\n",
        "    wood = 3\n",
        "    trunk = ' ' * block + '*' * wood\n",
        "    print(trunk)"
      ],
      "metadata": {
        "colab": {
          "base_uri": "https://localhost:8080/"
        },
        "id": "1lrY3L0TQRty",
        "outputId": "d954a0f1-a992-4951-e10c-c839bd561a6f"
      },
      "execution_count": null,
      "outputs": [
        {
          "output_type": "stream",
          "name": "stdout",
          "text": [
            "        *\n",
            "       ***\n",
            "      *****\n",
            "     *******\n",
            "    *********\n",
            "   ***********\n",
            "  *************\n",
            " ***************\n",
            "*****************\n",
            "       ***\n",
            "       ***\n",
            "       ***\n",
            "       ***\n",
            "       ***\n"
          ]
        }
      ]
    },
    {
      "cell_type": "code",
      "source": [
        "import random\n",
        "\n",
        "answer = ''.join(random.sample('1234567890', 4))\n",
        "\n",
        "print(answer)\n",
        "\n",
        "times = 0\n",
        "\n",
        "while True:\n",
        "    guess = input(\"輸入4個數字（不會重複）\")\n",
        "\n",
        "    if len(guess) > 4:\n",
        "        print(\"輸入數字過多，請輸入4個數字（不會重複）\")\n",
        "        continue\n",
        "\n",
        "    times += 1  #計次\n",
        "\n",
        "    num_place = 0\n",
        "    num = 0\n",
        "\n",
        "    for i in range(4):\n",
        "        if guess[i] == answer[i]:\n",
        "            num_place += 1\n",
        "        elif guess[i] in answer:\n",
        "            num += 1\n",
        "\n",
        "    print((guess) + ': ' + f\"{num_place}A{num}B\")\n",
        "\n",
        "    if num_place == 4:\n",
        "        print(\"答對了！總共猜了\", times, \"次\")\n",
        "        break"
      ],
      "metadata": {
        "colab": {
          "base_uri": "https://localhost:8080/"
        },
        "id": "eKJvsPRaQ6c1",
        "outputId": "d05bc9d1-d0b1-4470-ee53-8087fb572608"
      },
      "execution_count": null,
      "outputs": [
        {
          "output_type": "stream",
          "name": "stdout",
          "text": [
            "8916\n",
            "輸入4個數字（不會重複）12345\n",
            "輸入數字過多，請輸入4個數字（不會重複）\n",
            "輸入4個數字（不會重複）1234\n",
            "1234: 0A1B\n",
            "輸入4個數字（不會重複）5678\n",
            "5678: 0A2B\n",
            "輸入4個數字（不會重複）9012\n",
            "9012: 1A1B\n",
            "輸入4個數字（不會重複）1356\n",
            "1356: 1A1B\n",
            "輸入4個數字（不會重複）8916\n",
            "8916: 4A0B\n",
            "答對了！總共猜了 5 次\n"
          ]
        }
      ]
    }
  ]
}