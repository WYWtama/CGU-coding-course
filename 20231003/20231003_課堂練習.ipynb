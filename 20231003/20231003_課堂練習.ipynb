{
  "nbformat": 4,
  "nbformat_minor": 0,
  "metadata": {
    "colab": {
      "provenance": []
    },
    "kernelspec": {
      "name": "python3",
      "display_name": "Python 3"
    },
    "language_info": {
      "name": "python"
    }
  },
  "cells": [
    {
      "cell_type": "code",
      "execution_count": 46,
      "metadata": {
        "colab": {
          "base_uri": "https://localhost:8080/"
        },
        "id": "mer8hKdFc2om",
        "outputId": "5412ea2e-7bc8-417b-c7ff-98e9d7be6bbd"
      },
      "outputs": [
        {
          "output_type": "stream",
          "name": "stdout",
          "text": [
            "['K', 'H', 'U']\n"
          ]
        }
      ],
      "source": [
        "a = 'C,B,A'\n",
        "b = 'F,G,H'\n",
        "a = a.replace('C','K')\n",
        "a = (a. split(','))\n",
        "b = (b. split(','))\n",
        "a = a + b\n",
        "del a[2]\n",
        "a[1:4] = []\n",
        "a.append('U')\n",
        "print(a)"
      ]
    },
    {
      "cell_type": "code",
      "source": [
        "height = float(input())\n",
        "weight = float(input())\n",
        "height *= height\n",
        "weight /= height\n",
        "print('BMI : ',weight)\n",
        "\n",
        "if weight<18.5:\n",
        "  print('體位 :　過輕')\n",
        "\n",
        "elif 18.5<=weight<24:\n",
        "  print('體位 :　適中')\n",
        "\n",
        "elif 24<=weight<27:\n",
        "  print('體位 :　過重')\n",
        "\n",
        "else:\n",
        "  print('體位 :　肥胖')\n",
        "\n"
      ],
      "metadata": {
        "colab": {
          "base_uri": "https://localhost:8080/"
        },
        "id": "IM0pIfDRj2xh",
        "outputId": "6a343fb1-a8d1-4db2-8173-24cd21d3dfec"
      },
      "execution_count": 55,
      "outputs": [
        {
          "output_type": "stream",
          "name": "stdout",
          "text": [
            "1.62\n",
            "52\n",
            "BMI :  19.81405273586343\n",
            "體位 :　適中\n"
          ]
        }
      ]
    }
  ]
}