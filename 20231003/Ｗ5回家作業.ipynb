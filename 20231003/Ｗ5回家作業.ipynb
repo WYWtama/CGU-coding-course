{
  "nbformat": 4,
  "nbformat_minor": 0,
  "metadata": {
    "colab": {
      "provenance": []
    },
    "kernelspec": {
      "name": "python3",
      "display_name": "Python 3"
    },
    "language_info": {
      "name": "python"
    }
  },
  "cells": [
    {
      "cell_type": "code",
      "source": [
        "input_str = input(\"輸入5個成績：\")\n",
        "numbers = [int(num) for num in input_str.split()]\n",
        "\n",
        "numbers.remove(max(numbers))\n",
        "numbers.remove(min(numbers))\n",
        "\n",
        "average = sum(numbers) / len(numbers)\n",
        "\n",
        "print(\"其餘三個分數的平均:\", average)"
      ],
      "metadata": {
        "colab": {
          "base_uri": "https://localhost:8080/"
        },
        "id": "IsYCXSRJUsTU",
        "outputId": "f02e025b-3577-47e8-8927-d74a11046b47"
      },
      "execution_count": null,
      "outputs": [
        {
          "output_type": "stream",
          "name": "stdout",
          "text": [
            "輸入5個成績：100 95 90 84 85\n",
            "其餘三個分數的平均: 90.0\n"
          ]
        }
      ]
    },
    {
      "cell_type": "code",
      "source": [
        "math = input(\"輸入要計算的數學，以空格格開（例如 2 + 3）: \")\n",
        "\n",
        "part = math.split()\n",
        "\n",
        "x1 = float(part[0])\n",
        "mark = part[1]\n",
        "x2 = float(part[2])\n",
        "\n",
        "if mark == \"+\":\n",
        "  result = x1 + x2\n",
        "\n",
        "elif mark == \"-\":\n",
        "  result = x1 - x2\n",
        "\n",
        "elif mark == \"*\":\n",
        "  result = x1 * x2\n",
        "\n",
        "elif mark == \"/\":\n",
        "\n",
        "  if x2 == 0:\n",
        "    print(\"Error\")\n",
        "  else:\n",
        "    result = x1 / x2\n",
        "\n",
        "else:\n",
        "  print(\"無法計算\")\n",
        "\n",
        "if mark != \"/\" and x2 != 0:\n",
        "  print(result)"
      ],
      "metadata": {
        "colab": {
          "base_uri": "https://localhost:8080/"
        },
        "id": "87XCy-gHo9LN",
        "outputId": "75154402-3f6d-47aa-a79e-7b420e846053"
      },
      "execution_count": null,
      "outputs": [
        {
          "output_type": "stream",
          "name": "stdout",
          "text": [
            "輸入要計算的數學，以空格格開（例如 2 + 3）: 4 + 5\n",
            "9.0\n"
          ]
        }
      ]
    },
    {
      "cell_type": "code",
      "source": [
        "year = int(input(\"輸入年份：\"))\n",
        "\n",
        "if year <= 1582:\n",
        "\n",
        "  if year % 4 == 0:\n",
        "    print(\"閏年\")\n",
        "\n",
        "  else:\n",
        "    print(\"平年\")\n",
        "\n",
        "else:\n",
        "\n",
        "  if year % 4 == 0:\n",
        "\n",
        "    if year % 400 == 0:\n",
        "      print(\"潤年\")\n",
        "\n",
        "    else:\n",
        "      print(\"平年\")\n",
        "\n",
        "  else:\n",
        "    print(\"平年\")\n"
      ],
      "metadata": {
        "colab": {
          "base_uri": "https://localhost:8080/"
        },
        "id": "T9_CgigVqHPV",
        "outputId": "1125c087-9b6e-4aaf-e508-3f9ba1a87e7f"
      },
      "execution_count": null,
      "outputs": [
        {
          "output_type": "stream",
          "name": "stdout",
          "text": [
            "輸入年份：1200\n",
            "閏年\n"
          ]
        }
      ]
    }
  ]
}