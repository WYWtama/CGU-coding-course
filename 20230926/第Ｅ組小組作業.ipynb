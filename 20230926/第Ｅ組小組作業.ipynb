{
  "nbformat": 4,
  "nbformat_minor": 0,
  "metadata": {
    "colab": {
      "provenance": []
    },
    "kernelspec": {
      "name": "python3",
      "display_name": "Python 3"
    },
    "language_info": {
      "name": "python"
    }
  },
  "cells": [
    {
      "cell_type": "code",
      "execution_count": null,
      "metadata": {
        "id": "W40HFf4hmFEe"
      },
      "outputs": [],
      "source": [
        "print(\"I'm a student\")"
      ]
    },
    {
      "cell_type": "code",
      "source": [
        "import math\n",
        "x1 = float(input())\n",
        "y1 = float(input())\n",
        "x2 = float(input())\n",
        "y2 = float(input())\n",
        "Distance = (x1-x2)**2+(y1-y2)**2\n",
        "print(math.sqrt( Distance ))"
      ],
      "metadata": {
        "id": "vXkO3OmAmUYM"
      },
      "execution_count": null,
      "outputs": []
    },
    {
      "cell_type": "code",
      "source": [
        "height = float(input())\n",
        "weight = float(input())\n",
        "height *= height\n",
        "weight /= height\n",
        "print(int(weight<18.5))"
      ],
      "metadata": {
        "id": "X58r7Sm8mYik"
      },
      "execution_count": null,
      "outputs": []
    }
  ]
}