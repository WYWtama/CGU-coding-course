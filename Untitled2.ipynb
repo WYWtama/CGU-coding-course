{
  "nbformat": 4,
  "nbformat_minor": 0,
  "metadata": {
    "colab": {
      "provenance": []
    },
    "kernelspec": {
      "name": "python3",
      "display_name": "Python 3"
    },
    "language_info": {
      "name": "python"
    }
  },
  "cells": [
    {
      "cell_type": "code",
      "execution_count": 1,
      "metadata": {
        "id": "-kKeMvHI_lrW",
        "colab": {
          "base_uri": "https://localhost:8080/"
        },
        "outputId": "f4ebe132-b887-410c-ad46-90ff2c36c0ea"
      },
      "outputs": [
        {
          "output_type": "stream",
          "name": "stdout",
          "text": [
            "hello world\n"
          ]
        }
      ],
      "source": [
        "if 3+5==8:\n",
        "  print('hello world')"
      ]
    }
  ]
}